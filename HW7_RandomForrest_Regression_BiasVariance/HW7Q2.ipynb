{
 "cells": [
  {
   "cell_type": "code",
   "execution_count": 1,
   "metadata": {},
   "outputs": [],
   "source": [
    "import numpy as np\n",
    "import pandas as pd\n",
    "import seaborn as sns\n",
    "from matplotlib import pyplot as plt\n",
    "\n",
    "from sklearn.model_selection import train_test_split, GridSearchCV\n",
    "from sklearn.linear_model import LinearRegression, Ridge\n",
    "from sklearn.metrics import mean_squared_error\n",
    "from sklearn.preprocessing import PolynomialFeatures"
   ]
  },
  {
   "cell_type": "code",
   "execution_count": 2,
   "metadata": {},
   "outputs": [],
   "source": [
    "data = pd.read_csv('copper-new.txt', header = None, sep = \"\\s+\")"
   ]
  },
  {
   "cell_type": "code",
   "execution_count": 3,
   "metadata": {},
   "outputs": [
    {
     "data": {
      "text/html": [
       "<div>\n",
       "<style scoped>\n",
       "    .dataframe tbody tr th:only-of-type {\n",
       "        vertical-align: middle;\n",
       "    }\n",
       "\n",
       "    .dataframe tbody tr th {\n",
       "        vertical-align: top;\n",
       "    }\n",
       "\n",
       "    .dataframe thead th {\n",
       "        text-align: right;\n",
       "    }\n",
       "</style>\n",
       "<table border=\"1\" class=\"dataframe\">\n",
       "  <thead>\n",
       "    <tr style=\"text-align: right;\">\n",
       "      <th></th>\n",
       "      <th>0</th>\n",
       "      <th>1</th>\n",
       "    </tr>\n",
       "  </thead>\n",
       "  <tbody>\n",
       "    <tr>\n",
       "      <th>0</th>\n",
       "      <td>0.591</td>\n",
       "      <td>24.41</td>\n",
       "    </tr>\n",
       "    <tr>\n",
       "      <th>1</th>\n",
       "      <td>4.703</td>\n",
       "      <td>54.98</td>\n",
       "    </tr>\n",
       "    <tr>\n",
       "      <th>2</th>\n",
       "      <td>9.470</td>\n",
       "      <td>89.57</td>\n",
       "    </tr>\n",
       "    <tr>\n",
       "      <th>3</th>\n",
       "      <td>11.615</td>\n",
       "      <td>114.26</td>\n",
       "    </tr>\n",
       "    <tr>\n",
       "      <th>4</th>\n",
       "      <td>12.970</td>\n",
       "      <td>133.61</td>\n",
       "    </tr>\n",
       "  </tbody>\n",
       "</table>\n",
       "</div>"
      ],
      "text/plain": [
       "        0       1\n",
       "0   0.591   24.41\n",
       "1   4.703   54.98\n",
       "2   9.470   89.57\n",
       "3  11.615  114.26\n",
       "4  12.970  133.61"
      ]
     },
     "metadata": {},
     "output_type": "display_data"
    },
    {
     "name": "stdout",
     "output_type": "stream",
     "text": [
      "<class 'pandas.core.frame.DataFrame'>\n",
      "RangeIndex: 59 entries, 0 to 58\n",
      "Data columns (total 2 columns):\n",
      " #   Column  Non-Null Count  Dtype  \n",
      "---  ------  --------------  -----  \n",
      " 0   0       59 non-null     float64\n",
      " 1   1       59 non-null     float64\n",
      "dtypes: float64(2)\n",
      "memory usage: 1.0 KB\n"
     ]
    }
   ],
   "source": [
    "display(data.head())\n",
    "data.info()"
   ]
  },
  {
   "cell_type": "code",
   "execution_count": 4,
   "metadata": {},
   "outputs": [],
   "source": [
    "X = data.iloc[:,1].values.reshape(-1,1)\n",
    "Y = data.iloc[:,0].values.reshape(-1,1)\n",
    "\n",
    "X_train, X_test, y_train, y_test = train_test_split(X, Y, test_size=0.2, shuffle = True, random_state=42)"
   ]
  },
  {
   "cell_type": "markdown",
   "metadata": {},
   "source": [
    "## Part 1"
   ]
  },
  {
   "cell_type": "code",
   "execution_count": 5,
   "metadata": {},
   "outputs": [
    {
     "name": "stdout",
     "output_type": "stream",
     "text": [
      "12.60521776728249\n",
      "[[0.02128314]]\n",
      "[7.38412739]\n"
     ]
    }
   ],
   "source": [
    "# Using the entire dataset to fit the model\n",
    "LR = LinearRegression()\n",
    "\n",
    "LR.fit(X, Y)\n",
    "\n",
    "y_pred = LR.predict(X_test)\n",
    "\n",
    "print(mean_squared_error(y_test, y_pred))\n",
    "print(LR.coef_)\n",
    "print(LR.intercept_)"
   ]
  },
  {
   "cell_type": "code",
   "execution_count": 6,
   "metadata": {},
   "outputs": [
    {
     "data": {
      "text/plain": [
       "LinearRegression(copy_X=True, fit_intercept=True, n_jobs=None, normalize=False)"
      ]
     },
     "execution_count": 6,
     "metadata": {},
     "output_type": "execute_result"
    }
   ],
   "source": [
    "# Using the training data to fit the model\n",
    "LR = LinearRegression()\n",
    "\n",
    "LR.fit(X_train, y_train)"
   ]
  },
  {
   "cell_type": "code",
   "execution_count": 7,
   "metadata": {},
   "outputs": [
    {
     "data": {
      "text/plain": [
       "12.986921759444277"
      ]
     },
     "execution_count": 7,
     "metadata": {},
     "output_type": "execute_result"
    }
   ],
   "source": [
    "y_pred = LR.predict(X_test)\n",
    "\n",
    "mean_squared_error(y_test, y_pred)"
   ]
  },
  {
   "cell_type": "code",
   "execution_count": 8,
   "metadata": {},
   "outputs": [
    {
     "data": {
      "text/plain": [
       "array([[0.02169922]])"
      ]
     },
     "execution_count": 8,
     "metadata": {},
     "output_type": "execute_result"
    }
   ],
   "source": [
    "LR.coef_"
   ]
  },
  {
   "cell_type": "code",
   "execution_count": 9,
   "metadata": {},
   "outputs": [
    {
     "data": {
      "text/plain": [
       "array([7.44064023])"
      ]
     },
     "execution_count": 9,
     "metadata": {},
     "output_type": "execute_result"
    }
   ],
   "source": [
    "LR.intercept_"
   ]
  },
  {
   "cell_type": "markdown",
   "metadata": {},
   "source": [
    "## Part 2"
   ]
  },
  {
   "cell_type": "code",
   "execution_count": 10,
   "metadata": {},
   "outputs": [],
   "source": [
    "MSE_list = []\n",
    "alpha_list = [0.0000001, 0.000001, 0.00001, 0.0001, 0.001, 0.01, 0.1, 1]\n",
    "\n",
    "for n in range(1, 11):\n",
    "    for m in alpha_list:\n",
    "        poly = PolynomialFeatures(n)\n",
    "        X_train_poly = poly.fit_transform(X_train)\n",
    "        X_test_poly = poly.fit_transform(X_test)\n",
    "        clf = Ridge(alpha=m, normalize=True, random_state=42)\n",
    "        clf.fit(X_train_poly, y_train)\n",
    "        y_pred = clf.predict(X_test_poly)\n",
    "        MSE_list.append(mean_squared_error(y_test, y_pred))"
   ]
  },
  {
   "cell_type": "code",
   "execution_count": 11,
   "metadata": {},
   "outputs": [],
   "source": [
    "MSE_data = np.array(MSE_list).reshape(-1,8)"
   ]
  },
  {
   "cell_type": "code",
   "execution_count": 12,
   "metadata": {},
   "outputs": [],
   "source": [
    "column_list = [\"alpha = \"+str(i) for i in alpha_list]\n",
    "index_list = [\"n = \"+str(i) for i in range(1,11)]\n",
    "df = pd.DataFrame(MSE_data, columns = column_list, index = index_list)"
   ]
  },
  {
   "cell_type": "code",
   "execution_count": 13,
   "metadata": {},
   "outputs": [
    {
     "data": {
      "text/html": [
       "<div>\n",
       "<style scoped>\n",
       "    .dataframe tbody tr th:only-of-type {\n",
       "        vertical-align: middle;\n",
       "    }\n",
       "\n",
       "    .dataframe tbody tr th {\n",
       "        vertical-align: top;\n",
       "    }\n",
       "\n",
       "    .dataframe thead th {\n",
       "        text-align: right;\n",
       "    }\n",
       "</style>\n",
       "<table border=\"1\" class=\"dataframe\">\n",
       "  <thead>\n",
       "    <tr style=\"text-align: right;\">\n",
       "      <th></th>\n",
       "      <th>alpha = 1e-07</th>\n",
       "      <th>alpha = 1e-06</th>\n",
       "      <th>alpha = 1e-05</th>\n",
       "      <th>alpha = 0.0001</th>\n",
       "      <th>alpha = 0.001</th>\n",
       "      <th>alpha = 0.01</th>\n",
       "      <th>alpha = 0.1</th>\n",
       "      <th>alpha = 1</th>\n",
       "    </tr>\n",
       "  </thead>\n",
       "  <tbody>\n",
       "    <tr>\n",
       "      <th>n = 1</th>\n",
       "      <td>12.986921</td>\n",
       "      <td>12.986917</td>\n",
       "      <td>12.986872</td>\n",
       "      <td>12.986421</td>\n",
       "      <td>12.981946</td>\n",
       "      <td>12.940448</td>\n",
       "      <td>12.797905</td>\n",
       "      <td>18.549388</td>\n",
       "    </tr>\n",
       "    <tr>\n",
       "      <th>n = 2</th>\n",
       "      <td>6.053214</td>\n",
       "      <td>6.053165</td>\n",
       "      <td>6.052685</td>\n",
       "      <td>6.047945</td>\n",
       "      <td>6.006842</td>\n",
       "      <td>6.036358</td>\n",
       "      <td>10.669938</td>\n",
       "      <td>17.825714</td>\n",
       "    </tr>\n",
       "    <tr>\n",
       "      <th>n = 3</th>\n",
       "      <td>1.432399</td>\n",
       "      <td>1.431693</td>\n",
       "      <td>1.424946</td>\n",
       "      <td>1.386166</td>\n",
       "      <td>2.165050</td>\n",
       "      <td>6.486727</td>\n",
       "      <td>9.500859</td>\n",
       "      <td>18.134711</td>\n",
       "    </tr>\n",
       "    <tr>\n",
       "      <th>n = 4</th>\n",
       "      <td>0.209639</td>\n",
       "      <td>0.211184</td>\n",
       "      <td>0.251931</td>\n",
       "      <td>0.936517</td>\n",
       "      <td>2.107008</td>\n",
       "      <td>5.457523</td>\n",
       "      <td>9.622696</td>\n",
       "      <td>18.171859</td>\n",
       "    </tr>\n",
       "    <tr>\n",
       "      <th>n = 5</th>\n",
       "      <td>0.067269</td>\n",
       "      <td>0.076455</td>\n",
       "      <td>0.294080</td>\n",
       "      <td>0.613599</td>\n",
       "      <td>2.123238</td>\n",
       "      <td>4.801282</td>\n",
       "      <td>9.858848</td>\n",
       "      <td>18.033499</td>\n",
       "    </tr>\n",
       "    <tr>\n",
       "      <th>n = 6</th>\n",
       "      <td>0.071654</td>\n",
       "      <td>0.074917</td>\n",
       "      <td>0.194059</td>\n",
       "      <td>0.646225</td>\n",
       "      <td>1.902647</td>\n",
       "      <td>4.670356</td>\n",
       "      <td>9.913851</td>\n",
       "      <td>17.853795</td>\n",
       "    </tr>\n",
       "    <tr>\n",
       "      <th>n = 7</th>\n",
       "      <td>0.065745</td>\n",
       "      <td>0.081531</td>\n",
       "      <td>0.139995</td>\n",
       "      <td>0.661760</td>\n",
       "      <td>1.727718</td>\n",
       "      <td>4.712986</td>\n",
       "      <td>9.842143</td>\n",
       "      <td>17.695252</td>\n",
       "    </tr>\n",
       "    <tr>\n",
       "      <th>n = 8</th>\n",
       "      <td>0.067009</td>\n",
       "      <td>0.074750</td>\n",
       "      <td>0.139557</td>\n",
       "      <td>0.605100</td>\n",
       "      <td>1.669262</td>\n",
       "      <td>4.754189</td>\n",
       "      <td>9.735746</td>\n",
       "      <td>17.575090</td>\n",
       "    </tr>\n",
       "    <tr>\n",
       "      <th>n = 9</th>\n",
       "      <td>0.072190</td>\n",
       "      <td>0.070965</td>\n",
       "      <td>0.145676</td>\n",
       "      <td>0.538546</td>\n",
       "      <td>1.675436</td>\n",
       "      <td>4.752623</td>\n",
       "      <td>9.644951</td>\n",
       "      <td>17.491131</td>\n",
       "    </tr>\n",
       "    <tr>\n",
       "      <th>n = 10</th>\n",
       "      <td>0.075334</td>\n",
       "      <td>0.074542</td>\n",
       "      <td>0.144303</td>\n",
       "      <td>0.497688</td>\n",
       "      <td>1.694644</td>\n",
       "      <td>4.717016</td>\n",
       "      <td>9.584486</td>\n",
       "      <td>17.435402</td>\n",
       "    </tr>\n",
       "  </tbody>\n",
       "</table>\n",
       "</div>"
      ],
      "text/plain": [
       "        alpha = 1e-07  alpha = 1e-06  alpha = 1e-05  alpha = 0.0001  \\\n",
       "n = 1       12.986921      12.986917      12.986872       12.986421   \n",
       "n = 2        6.053214       6.053165       6.052685        6.047945   \n",
       "n = 3        1.432399       1.431693       1.424946        1.386166   \n",
       "n = 4        0.209639       0.211184       0.251931        0.936517   \n",
       "n = 5        0.067269       0.076455       0.294080        0.613599   \n",
       "n = 6        0.071654       0.074917       0.194059        0.646225   \n",
       "n = 7        0.065745       0.081531       0.139995        0.661760   \n",
       "n = 8        0.067009       0.074750       0.139557        0.605100   \n",
       "n = 9        0.072190       0.070965       0.145676        0.538546   \n",
       "n = 10       0.075334       0.074542       0.144303        0.497688   \n",
       "\n",
       "        alpha = 0.001  alpha = 0.01  alpha = 0.1  alpha = 1  \n",
       "n = 1       12.981946     12.940448    12.797905  18.549388  \n",
       "n = 2        6.006842      6.036358    10.669938  17.825714  \n",
       "n = 3        2.165050      6.486727     9.500859  18.134711  \n",
       "n = 4        2.107008      5.457523     9.622696  18.171859  \n",
       "n = 5        2.123238      4.801282     9.858848  18.033499  \n",
       "n = 6        1.902647      4.670356     9.913851  17.853795  \n",
       "n = 7        1.727718      4.712986     9.842143  17.695252  \n",
       "n = 8        1.669262      4.754189     9.735746  17.575090  \n",
       "n = 9        1.675436      4.752623     9.644951  17.491131  \n",
       "n = 10       1.694644      4.717016     9.584486  17.435402  "
      ]
     },
     "execution_count": 13,
     "metadata": {},
     "output_type": "execute_result"
    }
   ],
   "source": [
    "df"
   ]
  },
  {
   "cell_type": "code",
   "execution_count": 14,
   "metadata": {},
   "outputs": [],
   "source": [
    "# MSE_list"
   ]
  },
  {
   "cell_type": "code",
   "execution_count": 15,
   "metadata": {
    "scrolled": true
   },
   "outputs": [
    {
     "name": "stdout",
     "output_type": "stream",
     "text": [
      "[[ 0.00000000e+00  2.26915319e-01 -9.38197233e-04  1.77300773e-06\n",
      "  -9.86069778e-10 -1.34916889e-12  2.08095957e-15 -7.78443447e-19]]\n",
      "[-4.84658185]\n"
     ]
    }
   ],
   "source": [
    "poly = PolynomialFeatures(7)\n",
    "X_train_poly = poly.fit_transform(X_train)\n",
    "clf = Ridge(alpha=0.0000001, normalize=True, random_state=42)\n",
    "clf.fit(X_train_poly, y_train)\n",
    "print(clf.coef_)\n",
    "print(clf.intercept_)"
   ]
  },
  {
   "cell_type": "markdown",
   "metadata": {},
   "source": [
    "### Plot the fitted line"
   ]
  },
  {
   "cell_type": "code",
   "execution_count": 16,
   "metadata": {},
   "outputs": [],
   "source": [
    "poly = PolynomialFeatures(7)\n",
    "x_plot = np.array([i for i in range(20, 860)]).reshape(-1,1)\n",
    "x_plot_poly = poly.fit_transform(x_plot)\n",
    "\n",
    "y_plot = clf.predict(x_plot_poly)"
   ]
  },
  {
   "cell_type": "code",
   "execution_count": 17,
   "metadata": {
    "scrolled": true
   },
   "outputs": [
    {
     "data": {
      "image/png": "[encoded data removed]",
      "text/plain": [
       "<Figure size 432x288 with 1 Axes>"
      ]
     },
     "metadata": {
      "needs_background": "light"
     },
     "output_type": "display_data"
    }
   ],
   "source": [
    "fig, ax = plt.subplots()\n",
    "lines = ax.scatter(X_train.reshape(-1,), y_train.reshape(-1,), marker = 'o', label = 'Training Data')\n",
    "lines = ax.scatter(X_test.reshape(-1,), y_test.reshape(-1,), marker = '^', label = 'Testing Data')\n",
    "lines = ax.plot(x_plot.reshape(-1,), y_plot.reshape(-1,), label = 'n=7', color = 'r')\n",
    "#lines = ax.plot(max_depth_list, AUC_RF, marker = 'o', label = 'RF')\n",
    "ax.set(title = \"Fitted Line using Ridge Regression with Degree Equal to 7\", \n",
    "       xlabel = \"Temperature\", \n",
    "       ylabel = \"Coefficient of the Thermal Expansion\")\n",
    "ax.legend()\n",
    "plt.show()"
   ]
  },
  {
   "cell_type": "markdown",
   "metadata": {},
   "source": [
    "## Part 3"
   ]
  },
  {
   "cell_type": "code",
   "execution_count": 18,
   "metadata": {},
   "outputs": [
    {
     "name": "stdout",
     "output_type": "stream",
     "text": [
      "Fitting 5 folds for each of 200 candidates, totalling 1000 fits\n"
     ]
    },
    {
     "name": "stderr",
     "output_type": "stream",
     "text": [
      "[Parallel(n_jobs=-1)]: Using backend LokyBackend with 4 concurrent workers.\n",
      "[Parallel(n_jobs=-1)]: Done  39 tasks      | elapsed:    2.1s\n",
      "[Parallel(n_jobs=-1)]: Done 1000 out of 1000 | elapsed:    3.7s finished\n"
     ]
    },
    {
     "data": {
      "text/plain": [
       "GridSearchCV(cv=5, error_score=nan,\n",
       "             estimator=Ridge(alpha=1.0, copy_X=True, fit_intercept=True,\n",
       "                             max_iter=None, normalize=True, random_state=42,\n",
       "                             solver='auto', tol=0.001),\n",
       "             iid='deprecated', n_jobs=-1,\n",
       "             param_grid={'alpha': array([1.00000000e-09, 1.12266777e-09, 1.26038293e-09, 1.41499130e-09,\n",
       "       1.58856513e-09, 1.78343088e-09, 2.00220037e-09, 2.24780583e-09,\n",
       "       2.52353917e-09,...\n",
       "       1.10975250e+00, 1.24588336e+00, 1.39871310e+00, 1.57029012e+00,\n",
       "       1.76291412e+00, 1.97916687e+00, 2.22194686e+00, 2.49450814e+00,\n",
       "       2.80050389e+00, 3.14403547e+00, 3.52970730e+00, 3.96268864e+00,\n",
       "       4.44878283e+00, 4.99450512e+00, 5.60716994e+00, 6.29498899e+00,\n",
       "       7.06718127e+00, 7.93409667e+00, 8.90735464e+00, 1.00000000e+01])},\n",
       "             pre_dispatch='2*n_jobs', refit=True, return_train_score=False,\n",
       "             scoring=None, verbose=2)"
      ]
     },
     "execution_count": 18,
     "metadata": {},
     "output_type": "execute_result"
    }
   ],
   "source": [
    "poly = PolynomialFeatures(7)\n",
    "X_train_poly = poly.fit_transform(X_train)\n",
    "\n",
    "clf = Ridge(normalize=True, random_state=42)\n",
    "\n",
    "alpha_list = np.logspace(-9, 1, num=200)\n",
    "params ={'alpha': alpha_list}\n",
    "\n",
    "clf_search = GridSearchCV(estimator = clf, param_grid = params, cv = 5, verbose=2, n_jobs = -1)\n",
    "\n",
    "clf_search.fit(X_train_poly, y_train)"
   ]
  },
  {
   "cell_type": "code",
   "execution_count": 19,
   "metadata": {},
   "outputs": [
    {
     "data": {
      "image/png": "[encoded data removed]",
      "text/plain": [
       "<Figure size 432x288 with 1 Axes>"
      ]
     },
     "metadata": {
      "needs_background": "light"
     },
     "output_type": "display_data"
    }
   ],
   "source": [
    "fig, ax = plt.subplots()\n",
    "lines = ax.plot(alpha_list, clf_search.cv_results_['mean_test_score'])\n",
    "ax.set( \n",
    "       xlabel = \"Lambda\", \n",
    "       ylabel = \"CV Mean Test Score\")\n",
    "plt.xscale(\"log\")\n",
    "plt.show()"
   ]
  },
  {
   "cell_type": "code",
   "execution_count": 20,
   "metadata": {},
   "outputs": [
    {
     "data": {
      "text/plain": [
       "{'alpha': 3.217641750250735e-08}"
      ]
     },
     "execution_count": 20,
     "metadata": {},
     "output_type": "execute_result"
    }
   ],
   "source": [
    "clf_search.best_params_"
   ]
  },
  {
   "cell_type": "code",
   "execution_count": 21,
   "metadata": {},
   "outputs": [
    {
     "name": "stdout",
     "output_type": "stream",
     "text": [
      "0.06554169673079102\n"
     ]
    }
   ],
   "source": [
    "poly = PolynomialFeatures(7)\n",
    "X_train_poly = poly.fit_transform(X_train)\n",
    "X_test_poly = poly.fit_transform(X_test)\n",
    "\n",
    "clf = Ridge(normalize=True, random_state=42, alpha = 3.217641750250735e-08)\n",
    "clf.fit(X_train_poly, y_train)\n",
    "\n",
    "y_pred = clf.predict(X_test_poly)\n",
    "\n",
    "print(mean_squared_error(y_test, y_pred))"
   ]
  },
  {
   "cell_type": "markdown",
   "metadata": {},
   "source": [
    "## Part 4"
   ]
  },
  {
   "cell_type": "code",
   "execution_count": 22,
   "metadata": {},
   "outputs": [
    {
     "data": {
      "text/plain": [
       "array([[15.89738509]])"
      ]
     },
     "execution_count": 22,
     "metadata": {},
     "output_type": "execute_result"
    }
   ],
   "source": [
    "X_test_400K = np.array([400]).reshape(-1,1)\n",
    "\n",
    "LR = LinearRegression()\n",
    "LR.fit(X, Y)\n",
    "\n",
    "y_pred_LR = LR.predict(X_test_400K)\n",
    "y_pred_LR"
   ]
  },
  {
   "cell_type": "code",
   "execution_count": 23,
   "metadata": {},
   "outputs": [
    {
     "data": {
      "text/plain": [
       "array([[17.4932931]])"
      ]
     },
     "execution_count": 23,
     "metadata": {},
     "output_type": "execute_result"
    }
   ],
   "source": [
    "poly = PolynomialFeatures(7)\n",
    "X_train_poly = poly.fit_transform(X_train)\n",
    "X_test_400K_poly = poly.fit_transform(X_test_400K)\n",
    "\n",
    "clf = Ridge(normalize=True, random_state=42, alpha = 3.217641750250735e-08)\n",
    "clf.fit(X_train_poly, y_train)\n",
    "\n",
    "y_pred_ridge_optimized = clf.predict(X_test_400K_poly)\n",
    "y_pred_ridge_optimized"
   ]
  },
  {
   "cell_type": "code",
   "execution_count": 24,
   "metadata": {},
   "outputs": [
    {
     "data": {
      "image/png": "[encoded data removed]",
      "text/plain": [
       "<Figure size 432x288 with 1 Axes>"
      ]
     },
     "metadata": {
      "needs_background": "light"
     },
     "output_type": "display_data"
    }
   ],
   "source": [
    "fig, ax = plt.subplots()\n",
    "lines = ax.scatter(X_train.reshape(-1,), y_train.reshape(-1,), marker = 'o', label = 'Training Data')\n",
    "lines = ax.scatter(X_test.reshape(-1,), y_test.reshape(-1,), marker = '^', label = 'Testing Data')\n",
    "lines = ax.scatter(X_test_400K.reshape(-1,), y_pred_LR.reshape(-1,), marker = '*', label = 'Linear Regression Result')\n",
    "lines = ax.scatter(X_test_400K.reshape(-1,), y_pred_ridge_optimized.reshape(-1,), marker = '*', label = 'Optimized Ridge Regression Result')\n",
    "ax.set(title = \"Prediction of Coefficient at 400K\",  \n",
    "       xlabel = \"Temperature\", \n",
    "       ylabel = \"Coefficient of the Thermal Expansion\")\n",
    "ax.legend()\n",
    "plt.show()"
   ]
  },
  {
   "cell_type": "code",
   "execution_count": null,
   "metadata": {},
   "outputs": [],
   "source": []
  }
 ],
 "metadata": {
  "kernelspec": {
   "display_name": "Python 3",
   "language": "python",
   "name": "python3"
  },
  "language_info": {
   "codemirror_mode": {
    "name": "ipython",
    "version": 3
   },
   "file_extension": ".py",
   "mimetype": "text/x-python",
   "name": "python",
   "nbconvert_exporter": "python",
   "pygments_lexer": "ipython3",
   "version": "3.7.1"
  }
 },
 "nbformat": 4,
 "nbformat_minor": 2
}
