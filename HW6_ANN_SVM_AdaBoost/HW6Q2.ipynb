{
 "cells": [
  {
   "cell_type": "code",
   "execution_count": 1,
   "metadata": {},
   "outputs": [],
   "source": [
    "import numpy as np\n",
    "import pandas as pd\n",
    "import seaborn as sns\n",
    "from matplotlib import pyplot as plt\n",
    "\n",
    "from sklearn.svm import SVC\n",
    "from sklearn import neural_network\n",
    "from sklearn.model_selection import GridSearchCV\n",
    "from sklearn.model_selection import train_test_split as train_test_split\n",
    "from sklearn.metrics import confusion_matrix\n",
    "from sklearn.preprocessing import MinMaxScaler"
   ]
  },
  {
   "cell_type": "code",
   "execution_count": 2,
   "metadata": {},
   "outputs": [],
   "source": [
    "data = pd.read_csv('q3.csv',header = None)\n",
    "\n",
    "X_train, X_test, Y_train, Y_test = train_test_split(data.iloc[:,0:-1], data.iloc[:,-1], test_size = 0.2, shuffle = True, random_state = 1)"
   ]
  },
  {
   "cell_type": "code",
   "execution_count": 3,
   "metadata": {},
   "outputs": [],
   "source": [
    "scaler = MinMaxScaler()\n",
    "scaler.fit(X_train)  \n",
    "X_train_scaled = scaler.transform(X_train)  \n",
    "X_test_scaled = scaler.transform(X_test)"
   ]
  },
  {
   "cell_type": "markdown",
   "metadata": {},
   "source": [
    "## SVM Classifier\n",
    "* Using X_train_scaled gave the same result. (Codes not shown)"
   ]
  },
  {
   "cell_type": "code",
   "execution_count": 4,
   "metadata": {},
   "outputs": [
    {
     "data": {
      "text/plain": [
       "{'C': 0.1}"
      ]
     },
     "execution_count": 4,
     "metadata": {},
     "output_type": "execute_result"
    }
   ],
   "source": [
    "C = [0.001, 0.01, 0.1, 1, 10, 100, 1000]\n",
    "parameters = {'C': C}\n",
    "grid_search = GridSearchCV(SVC(kernel = 'rbf'), param_grid = parameters, cv = 3)\n",
    "grid_search.fit(X_train, Y_train)\n",
    "grid_search.best_params_"
   ]
  },
  {
   "cell_type": "code",
   "execution_count": 5,
   "metadata": {},
   "outputs": [
    {
     "name": "stdout",
     "output_type": "stream",
     "text": [
      "The confusion matrix is:\n",
      " [[19  0]\n",
      " [ 2 13]]\n",
      "The accuracy of SVM is 94.1%.\n"
     ]
    }
   ],
   "source": [
    "svc = SVC(C = 0.1)\n",
    "svc.fit(X_train, Y_train)\n",
    "pred = svc.predict(X_test)\n",
    "conf_matrix = confusion_matrix(y_pred = pred, y_true = Y_test)\n",
    "accuracy_SVM = np.sum(np.diagonal(conf_matrix)) / len(pred)\n",
    "\n",
    "print (\"The confusion matrix is:\\n\", conf_matrix)\n",
    "print(\"The accuracy of SVM is \"+str(round(accuracy_SVM,3)*100)+\"%.\")"
   ]
  },
  {
   "cell_type": "markdown",
   "metadata": {},
   "source": [
    "## NN Classifier\n",
    "* Setting the solver from ’adam’ to 'lbfgs' to solve convergence error. \n",
    "* Solver 'lbfgs' is using a constant learning_rate 0.001. We only tuned alpha in this case.\n",
    "* Without setting a random seed, result will be constantly changing"
   ]
  },
  {
   "cell_type": "code",
   "execution_count": 6,
   "metadata": {},
   "outputs": [
    {
     "data": {
      "text/plain": [
       "{'learning_rate_init': 0.01}"
      ]
     },
     "execution_count": 6,
     "metadata": {},
     "output_type": "execute_result"
    }
   ],
   "source": [
    "np.random.seed(3)\n",
    "learning_rate_init = [0.00001, 0.0001, 0.001, 0.01, 0.1] \n",
    "parameters = {'learning_rate_init': learning_rate_init}\n",
    "grid_search = GridSearchCV(neural_network.MLPClassifier(hidden_layer_sizes = (5, 2), solver = 'lbfgs'), param_grid = parameters, cv = 3)\n",
    "grid_search.fit(X_train, Y_train)\n",
    "grid_search.best_params_"
   ]
  },
  {
   "cell_type": "code",
   "execution_count": 7,
   "metadata": {},
   "outputs": [],
   "source": [
    "#grid_search.cv_results_"
   ]
  },
  {
   "cell_type": "code",
   "execution_count": 8,
   "metadata": {},
   "outputs": [
    {
     "name": "stdout",
     "output_type": "stream",
     "text": [
      "The confusion matrix is:\n",
      " [[19  0]\n",
      " [ 2 13]]\n",
      "The accuracy of NN is 94.1%.\n"
     ]
    }
   ],
   "source": [
    "np.random.seed(3)\n",
    "\n",
    "NN = neural_network.MLPClassifier(hidden_layer_sizes=(5, 2), solver = 'lbfgs', learning_rate_init = 0.01)\n",
    "NN.fit(X_train, Y_train)\n",
    "pred = NN.predict(X_test)\n",
    "conf_matrix = confusion_matrix(y_pred = pred, y_true = Y_test)\n",
    "accuracy_NN = np.sum(np.diagonal(conf_matrix))/len(pred)\n",
    "print (\"The confusion matrix is:\\n\",conf_matrix)\n",
    "print(\"The accuracy of NN is \"+str(round(accuracy_NN,3)*100)+\"%.\")"
   ]
  },
  {
   "cell_type": "code",
   "execution_count": 9,
   "metadata": {},
   "outputs": [
    {
     "name": "stdout",
     "output_type": "stream",
     "text": [
      "The confusion matrix is:\n",
      " [[ 0 19]\n",
      " [ 0 15]]\n",
      "The accuracy of NN is 44.1%.\n"
     ]
    }
   ],
   "source": [
    "# Different random seed causes a lower accuracy\n",
    "\n",
    "data = pd.read_csv('q3.csv',header = None)\n",
    "\n",
    "X_train, X_test, Y_train, Y_test = train_test_split(data.iloc[:,0:2], data.iloc[:,-1], test_size=0.2,shuffle=True,random_state=1)\n",
    "\n",
    "np.random.seed(54)\n",
    "\n",
    "NN = neural_network.MLPClassifier(hidden_layer_sizes=(5, 2), solver = 'lbfgs', learning_rate_init = 0.01)\n",
    "NN.fit(X_train, Y_train)\n",
    "\n",
    "pred = NN.predict(X_test)\n",
    "conf_matrix = confusion_matrix(y_pred = pred, y_true = Y_test)\n",
    "accuracy_NN = np.sum(np.diagonal(conf_matrix))/len(pred)\n",
    "print (\"The confusion matrix is:\\n\",conf_matrix)\n",
    "print(\"The accuracy of NN is \"+str(round(accuracy_NN,3)*100)+\"%.\")"
   ]
  },
  {
   "cell_type": "code",
   "execution_count": 10,
   "metadata": {},
   "outputs": [],
   "source": [
    "# NN.get_params"
   ]
  },
  {
   "cell_type": "markdown",
   "metadata": {},
   "source": [
    "### Using X_train_scaled gave a worse result"
   ]
  },
  {
   "cell_type": "code",
   "execution_count": 11,
   "metadata": {},
   "outputs": [
    {
     "data": {
      "text/plain": [
       "{'learning_rate_init': 1e-05}"
      ]
     },
     "execution_count": 11,
     "metadata": {},
     "output_type": "execute_result"
    }
   ],
   "source": [
    "np.random.seed(3)\n",
    "learning_rate_init = [0.00001, 0.0001, 0.001, 0.01, 0.1] \n",
    "parameters = {'learning_rate_init': learning_rate_init}\n",
    "grid_search = GridSearchCV(neural_network.MLPClassifier(hidden_layer_sizes = (5, 2), solver = 'lbfgs'), param_grid = parameters, cv = 3)\n",
    "grid_search.fit(X_train_scaled, Y_train)\n",
    "grid_search.best_params_"
   ]
  },
  {
   "cell_type": "code",
   "execution_count": 12,
   "metadata": {},
   "outputs": [
    {
     "name": "stdout",
     "output_type": "stream",
     "text": [
      "The confusion matrix is:\n",
      " [[ 8 11]\n",
      " [ 0 15]]\n",
      "The accuracy of NN is 67.60000000000001%.\n"
     ]
    }
   ],
   "source": [
    "np.random.seed(3)\n",
    "\n",
    "NN = neural_network.MLPClassifier(hidden_layer_sizes=(5, 2), solver = 'lbfgs', learning_rate_init = 0.01)\n",
    "NN.fit(X_train_scaled, Y_train)\n",
    "pred = NN.predict(X_test_scaled)\n",
    "conf_matrix = confusion_matrix(y_pred = pred, y_true = Y_test)\n",
    "accuracy_NN = np.sum(np.diagonal(conf_matrix))/len(pred)\n",
    "print (\"The confusion matrix is:\\n\",conf_matrix)\n",
    "print(\"The accuracy of NN is \"+str(round(accuracy_NN,3)*100)+\"%.\")"
   ]
  },
  {
   "cell_type": "markdown",
   "metadata": {},
   "source": [
    "## Draw decision boundary"
   ]
  },
  {
   "cell_type": "code",
   "execution_count": 13,
   "metadata": {
    "scrolled": true
   },
   "outputs": [
    {
     "data": {
      "image/png": "[encoded data removed]",
      "text/plain": [
       "<Figure size 432x288 with 1 Axes>"
      ]
     },
     "metadata": {
      "needs_background": "light"
     },
     "output_type": "display_data"
    }
   ],
   "source": [
    "data = pd.read_csv('q3.csv',header = None)\n",
    "\n",
    "X_train, X_test, Y_train, Y_test = train_test_split(data.iloc[:,0:2], data.iloc[:,-1], test_size=0.2,shuffle=True,random_state=1)\n",
    "\n",
    "svc = SVC(C = 0.1, probability = True)\n",
    "svc.fit(X_train, Y_train)\n",
    "\n",
    "# np.linspace returns evenly spaced numbers (default 50) over a specified interval\n",
    "# np.meshgrid returns coordinate matrices. Because there will be 50*50 points, xx.shape is (50,50)\n",
    "xx, yy = np.meshgrid(np.linspace(data.iloc[:,0:1].min(), data.iloc[:,0:1].max()),\n",
    "                     np.linspace(data.iloc[:,1:2].min(), data.iloc[:,1:2].max()))\n",
    "# np.c_ is used to concatenate (a1, a2, ...), axis=0\n",
    "# Z shape is (n_samples, n_classes). Column 0 is the prob. in class 0.\n",
    "Z =svc.predict_proba(np.c_[xx.ravel(), yy.ravel()])\n",
    "\n",
    "Z = Z[:, 1].reshape(xx.shape)\n",
    "# data.iloc[:,-1] is a Pandas series\n",
    "p1 = sns.scatterplot(x=data.iloc[:,0],y=data.iloc[:,1],hue=data.iloc[:,-1].rename(\"Label\"))\n",
    "\n",
    "# Z.shape is equal to xx.shape\n",
    "# [levels] can be an array\n",
    "p1.contour(xx, yy, Z, [0.5])\n",
    "\n",
    "p1.set_xlabel('Feature 1\\n SVM')\n",
    "p1.set_ylabel('Feature 2')\n",
    "\n",
    "plt.show()"
   ]
  },
  {
   "cell_type": "code",
   "execution_count": 14,
   "metadata": {},
   "outputs": [
    {
     "data": {
      "image/png": "[encoded data removed]",
      "text/plain": [
       "<Figure size 432x288 with 1 Axes>"
      ]
     },
     "metadata": {
      "needs_background": "light"
     },
     "output_type": "display_data"
    }
   ],
   "source": [
    "data = pd.read_csv('q3.csv',header = None)\n",
    "\n",
    "X_train, X_test, Y_train, Y_test = train_test_split(data.iloc[:,0:2], data.iloc[:,-1], test_size=0.2,shuffle=True,random_state=1)\n",
    "\n",
    "np.random.seed(3)\n",
    "\n",
    "NN = neural_network.MLPClassifier(hidden_layer_sizes=(5, 2), solver = 'lbfgs', learning_rate_init = 0.01)\n",
    "NN.fit(X_train, Y_train)\n",
    "\n",
    "# np.linspace returns evenly spaced numbers (default 50) over a specified interval\n",
    "# np.meshgrid returns coordinate matrices. Because there will be 50*50 points, xx.shape is (50,50)\n",
    "xx, yy = np.meshgrid(np.linspace(data.iloc[:,0:1].min(), data.iloc[:,0:1].max()),\n",
    "                     np.linspace(data.iloc[:,1:2].min(), data.iloc[:,1:2].max()))\n",
    "# np.c_ is used to concatenate (a1, a2, ...), axis=0\n",
    "# Z shape is (n_samples, n_classes). Column 0 is the prob. in class 0.\n",
    "Z = NN.predict_proba(np.c_[xx.ravel(), yy.ravel()])\n",
    "\n",
    "Z = Z[:, 1].reshape(xx.shape)\n",
    "\n",
    "# data.iloc[:,-1] is a Pandas series\n",
    "p1 = sns.scatterplot(x=data.iloc[:,0],y=data.iloc[:,1],hue=data.iloc[:,-1].rename(\"Label\"))\n",
    "\n",
    "# Z.shape is equal to xx.shape\n",
    "# [levels] can be an array\n",
    "p1.contour(xx, yy, Z, [0.5])\n",
    "\n",
    "p1.set_xlabel('Feature 1\\n NN')\n",
    "p1.set_ylabel('Feature 2')\n",
    "\n",
    "plt.show()"
   ]
  },
  {
   "cell_type": "code",
   "execution_count": 15,
   "metadata": {
    "scrolled": true
   },
   "outputs": [
    {
     "name": "stderr",
     "output_type": "stream",
     "text": [
      "/Users/Andrew/anaconda3/lib/python3.7/site-packages/ipykernel_launcher.py:25: UserWarning: No contour levels were found within the data range.\n"
     ]
    },
    {
     "data": {
      "image/png": "[encoded data removed]",
      "text/plain": [
       "<Figure size 432x288 with 1 Axes>"
      ]
     },
     "metadata": {
      "needs_background": "light"
     },
     "output_type": "display_data"
    }
   ],
   "source": [
    "data = pd.read_csv('q3.csv',header = None)\n",
    "\n",
    "X_train, X_test, Y_train, Y_test = train_test_split(data.iloc[:,0:2], data.iloc[:,-1], test_size=0.2,shuffle=True,random_state=1)\n",
    "\n",
    "np.random.seed(54)\n",
    "\n",
    "NN = neural_network.MLPClassifier(hidden_layer_sizes=(5, 2), solver = 'lbfgs', learning_rate_init = 0.01)\n",
    "NN.fit(X_train, Y_train)\n",
    "\n",
    "# np.linspace returns evenly spaced numbers (default 50) over a specified interval\n",
    "# np.meshgrid returns coordinate matrices. Because there will be 50*50 points, xx.shape is (50,50)\n",
    "xx, yy = np.meshgrid(np.linspace(data.iloc[:,0:1].min(), data.iloc[:,0:1].max()),\n",
    "                     np.linspace(data.iloc[:,1:2].min(), data.iloc[:,1:2].max()))\n",
    "# np.c_ is used to concatenate (a1, a2, ...), axis=0\n",
    "# Z shape is (n_samples, n_classes). Column 0 is the prob. in class 0.\n",
    "Z = NN.predict_proba(np.c_[xx.ravel(), yy.ravel()])\n",
    "\n",
    "Z = Z[:, 1].reshape(xx.shape)\n",
    "\n",
    "# data.iloc[:,-1] is a Pandas series\n",
    "p1 = sns.scatterplot(x=data.iloc[:,0],y=data.iloc[:,1],hue=data.iloc[:,-1].rename(\"Label\"))\n",
    "\n",
    "# Z.shape is equal to xx.shape\n",
    "# [levels] can be an array\n",
    "p1.contour(xx, yy, Z, [0.5])\n",
    "\n",
    "p1.set_xlabel('Feature 1\\n NN')\n",
    "p1.set_ylabel('Feature 2')\n",
    "\n",
    "plt.show()"
   ]
  },
  {
   "cell_type": "markdown",
   "metadata": {},
   "source": [
    "## Part 2"
   ]
  },
  {
   "cell_type": "code",
   "execution_count": 16,
   "metadata": {},
   "outputs": [],
   "source": [
    "data = pd.read_csv(\"data.dat\", sep='\\s+',header=None).T\n",
    "label = pd.read_csv(\"label.dat\",sep='\\s+',header=None).T\n",
    "label[label[0] == 2] = 0\n",
    "label[label[0] == 6] = 1\n",
    "\n",
    "X_train, X_test, Y_train, Y_test = train_test_split(data, label, test_size = 0.2, shuffle = True, random_state = 1)"
   ]
  },
  {
   "cell_type": "markdown",
   "metadata": {},
   "source": [
    "### SVM"
   ]
  },
  {
   "cell_type": "code",
   "execution_count": 17,
   "metadata": {},
   "outputs": [
    {
     "data": {
      "text/plain": [
       "{'C': 10}"
      ]
     },
     "execution_count": 17,
     "metadata": {},
     "output_type": "execute_result"
    }
   ],
   "source": [
    "C = [0.001, 0.01, 0.1, 1, 10, 100, 1000]\n",
    "parameters = {'C': C}\n",
    "grid_search = GridSearchCV(SVC(kernel = 'rbf'), param_grid = parameters, cv = 3)\n",
    "grid_search.fit(X_train, Y_train.values.ravel())\n",
    "grid_search.best_params_"
   ]
  },
  {
   "cell_type": "code",
   "execution_count": 18,
   "metadata": {},
   "outputs": [
    {
     "name": "stdout",
     "output_type": "stream",
     "text": [
      "The confusion matrix is:\n",
      " [[191   1]\n",
      " [  1 205]]\n",
      "The accuracy of SVM is 99.5%.\n"
     ]
    }
   ],
   "source": [
    "svc = SVC(C = 10)\n",
    "svc.fit(X_train, Y_train.values.ravel())\n",
    "pred = svc.predict(X_test)\n",
    "conf_matrix = confusion_matrix(y_pred = pred, y_true = Y_test)\n",
    "accuracy_SVM = np.sum(np.diagonal(conf_matrix)) / len(pred)\n",
    "\n",
    "print (\"The confusion matrix is:\\n\", conf_matrix)\n",
    "print(\"The accuracy of SVM is \"+str(round(accuracy_SVM,3)*100)+\"%.\")"
   ]
  },
  {
   "cell_type": "markdown",
   "metadata": {},
   "source": [
    "### NN"
   ]
  },
  {
   "cell_type": "code",
   "execution_count": 19,
   "metadata": {},
   "outputs": [
    {
     "data": {
      "text/plain": [
       "{'learning_rate_init': 0.1}"
      ]
     },
     "execution_count": 19,
     "metadata": {},
     "output_type": "execute_result"
    }
   ],
   "source": [
    "np.random.seed(3)\n",
    "learning_rate_init = [0.00001, 0.0001, 0.001, 0.01, 0.1] \n",
    "parameters = {'learning_rate_init': learning_rate_init}\n",
    "grid_search = GridSearchCV(neural_network.MLPClassifier(hidden_layer_sizes = (5, 2), solver = 'lbfgs'), param_grid = parameters, cv = 3)\n",
    "grid_search.fit(X_train, Y_train.values.ravel())\n",
    "grid_search.best_params_"
   ]
  },
  {
   "cell_type": "code",
   "execution_count": 20,
   "metadata": {},
   "outputs": [
    {
     "name": "stdout",
     "output_type": "stream",
     "text": [
      "The confusion matrix is:\n",
      " [[191   1]\n",
      " [  3 203]]\n",
      "The accuracy of NN is 99.0%.\n"
     ]
    }
   ],
   "source": [
    "np.random.seed(3)\n",
    "\n",
    "NN = neural_network.MLPClassifier(hidden_layer_sizes=(5, 2), solver = 'lbfgs', learning_rate_init = 0.1)\n",
    "NN.fit(X_train, Y_train.values.ravel())\n",
    "pred = NN.predict(X_test)\n",
    "conf_matrix = confusion_matrix(y_pred = pred, y_true = Y_test)\n",
    "accuracy_NN = np.sum(np.diagonal(conf_matrix))/len(pred)\n",
    "print (\"The confusion matrix is:\\n\",conf_matrix)\n",
    "print(\"The accuracy of NN is \"+str(round(accuracy_NN,3)*100)+\"%.\")"
   ]
  },
  {
   "cell_type": "code",
   "execution_count": 21,
   "metadata": {},
   "outputs": [
    {
     "name": "stdout",
     "output_type": "stream",
     "text": [
      "The confusion matrix is:\n",
      " [[192   0]\n",
      " [206   0]]\n",
      "The accuracy of NN is 48.24%.\n"
     ]
    }
   ],
   "source": [
    "np.random.seed(41)\n",
    "\n",
    "NN = neural_network.MLPClassifier(hidden_layer_sizes=(5, 2), solver = 'lbfgs', learning_rate_init = 0.1)\n",
    "NN.fit(X_train, Y_train.values.ravel())\n",
    "pred = NN.predict(X_test)\n",
    "conf_matrix = confusion_matrix(y_pred = pred, y_true = Y_test)\n",
    "accuracy_NN = np.sum(np.diagonal(conf_matrix))/len(pred)\n",
    "print (\"The confusion matrix is:\\n\",conf_matrix)\n",
    "print(\"The accuracy of NN is \"+str(round(accuracy_NN,4)*100)+\"%.\")"
   ]
  },
  {
   "cell_type": "code",
   "execution_count": null,
   "metadata": {},
   "outputs": [],
   "source": []
  },
  {
   "cell_type": "code",
   "execution_count": null,
   "metadata": {},
   "outputs": [],
   "source": []
  },
  {
   "cell_type": "code",
   "execution_count": null,
   "metadata": {},
   "outputs": [],
   "source": []
  },
  {
   "cell_type": "code",
   "execution_count": null,
   "metadata": {},
   "outputs": [],
   "source": []
  },
  {
   "cell_type": "markdown",
   "metadata": {},
   "source": [
    "## Back-up codes, do not run them"
   ]
  },
  {
   "cell_type": "code",
   "execution_count": null,
   "metadata": {},
   "outputs": [],
   "source": [
    "np.random.seed(3)\n",
    "learning_rate_init = [0.00001, 0.0001, 0.001, 0.01, 0.1] \n",
    "parameters = {'learning_rate_init': learning_rate_init}\n",
    "grid_search = GridSearchCV(neural_network.MLPClassifier(hidden_layer_sizes = (5, 2), solver = 'lbfgs'), param_grid = parameters, cv = 3)\n",
    "grid_search.fit(X_train, Y_train)\n",
    "grid_search.best_params_"
   ]
  },
  {
   "cell_type": "code",
   "execution_count": null,
   "metadata": {},
   "outputs": [],
   "source": [
    "for n in range(100): \n",
    "    np.random.seed(n)\n",
    "    NNN = neural_network.MLPClassifier(hidden_layer_sizes=(5, 2), solver = 'lbfgs', alpha = 0.1)\n",
    "    NN.fit(X_train, Y_train.values.ravel())\n",
    "    pred = NN.predict(X_test)\n",
    "    conf_matrix = confusion_matrix(y_pred = pred, y_true = Y_test)\n",
    "    accuracy_NN = np.sum(np.diagonal(conf_matrix))/len(pred)\n",
    "    if accuracy_NN<0.9:\n",
    "        print(n)\n",
    "        print(\"The accuracy of SVM is \"+str(round(accuracy_NN,3)*100)+\"%.\")"
   ]
  },
  {
   "cell_type": "code",
   "execution_count": null,
   "metadata": {},
   "outputs": [],
   "source": []
  },
  {
   "cell_type": "code",
   "execution_count": null,
   "metadata": {},
   "outputs": [],
   "source": []
  }
 ],
 "metadata": {
  "kernelspec": {
   "display_name": "Python 3",
   "language": "python",
   "name": "python3"
  },
  "language_info": {
   "codemirror_mode": {
    "name": "ipython",
    "version": 3
   },
   "file_extension": ".py",
   "mimetype": "text/x-python",
   "name": "python",
   "nbconvert_exporter": "python",
   "pygments_lexer": "ipython3",
   "version": "3.7.1"
  }
 },
 "nbformat": 4,
 "nbformat_minor": 2
}
